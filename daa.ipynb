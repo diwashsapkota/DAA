{
  "nbformat": 4,
  "nbformat_minor": 0,
  "metadata": {
    "colab": {
      "name": "daa.ipynb",
      "provenance": [],
      "collapsed_sections": [],
      "authorship_tag": "ABX9TyOpH3LFaWUGZKVHUWPX9Tg6",
      "include_colab_link": true
    },
    "kernelspec": {
      "name": "python3",
      "display_name": "Python 3"
    }
  },
  "cells": [
    {
      "cell_type": "markdown",
      "metadata": {
        "id": "view-in-github",
        "colab_type": "text"
      },
      "source": [
        "<a href=\"https://colab.research.google.com/github/diwashsapkota/DAA/blob/main/daa.ipynb\" target=\"_parent\"><img src=\"https://colab.research.google.com/assets/colab-badge.svg\" alt=\"Open In Colab\"/></a>"
      ]
    },
    {
      "cell_type": "markdown",
      "metadata": {
        "id": "QYDUg-xHftM5"
      },
      "source": [
        "1) Take two numbers a and b as inputs.\r\n",
        "2) If a==0, then gcd is b.\r\n",
        "3) Else if b==0,then gcd is a.\r\n",
        "4) Else,\r\n",
        "while(b!=0){\r\n",
        "r=a mod b;\r\n",
        "a=b;\r\n",
        "b=r;\r\n",
        "}\r\n",
        "And then gcd is a.\r\n"
      ]
    },
    {
      "cell_type": "code",
      "metadata": {
        "colab": {
          "base_uri": "https://localhost:8080/"
        },
        "id": "1XGgI33ha1qd",
        "outputId": "ceed7197-ae99-4cef-92e3-26d6a8b03205"
      },
      "source": [
        "#gcd lab1\r\n",
        "def hcf(a, b): \r\n",
        "    if(b == 0): \r\n",
        "        return a \r\n",
        "    else: \r\n",
        "        return hcf(b, a % b) \r\n",
        "  \r\n",
        "a = int(input(\"Enter first number:\"))\r\n",
        "b = int(input(\"Enter second number:\"))\r\n",
        "  \r\n",
        "print(\"GCD is:\", hcf(a,b))\r\n"
      ],
      "execution_count": null,
      "outputs": [
        {
          "output_type": "stream",
          "text": [
            "Enter first number:25\n",
            "Enter second number:35\n",
            "GCD is: 5\n"
          ],
          "name": "stdout"
        }
      ]
    },
    {
      "cell_type": "markdown",
      "metadata": {
        "id": "-q5Id-Alfvyy"
      },
      "source": [
        "The algorithm is based on the following facts. \r\n",
        "\tStart\r\n",
        "\tDeclare variables i, a, b, show\r\n",
        "\tInitialize the variables, a=0, b=1, and show =0\r\n",
        "\tEnter the number of terms of Fibonacci series to be printed\r\n",
        "\tPrint First two terms of series\r\n",
        "\tUse loop for the following steps\r\n",
        "•\tshow = a+b\r\n",
        "•\ta=b\r\n",
        "•\tb=show\r\n",
        "•\tincrease value of i each time by 1\r\n",
        "•\tprint the value of show\r\n",
        "\tEnd\r\n"
      ]
    },
    {
      "cell_type": "code",
      "metadata": {
        "colab": {
          "base_uri": "https://localhost:8080/"
        },
        "id": "zvKdOvaAbKcQ",
        "outputId": "0166fcfa-dca1-4d89-b912-6df00763b9e1"
      },
      "source": [
        "# lab 2 Program to display the Fibonacci sequence up to n-th term\r\n",
        "nterms = int(input(\"How many terms? \"))\r\n",
        "\r\n",
        "# first two terms\r\n",
        "n1, n2 = 0, 1\r\n",
        "count = 0\r\n",
        "\r\n",
        "# check if the number of terms is valid\r\n",
        "if nterms <= 0:\r\n",
        "   print(\"Please enter a positive integer\")\r\n",
        "elif nterms == 1:\r\n",
        "   print(\"Fibonacci sequence upto\",nterms,\":\")\r\n",
        "   print(n1)\r\n",
        "else:\r\n",
        "   print(\"Fibonacci sequence:\")\r\n",
        "   while count < nterms:\r\n",
        "       print(n1)\r\n",
        "       nth = n1 + n2\r\n",
        "\r\n",
        "       # update values\r\n",
        "       n1 = n2\r\n",
        "       n2 = nth\r\n",
        "       count += 1\r\n"
      ],
      "execution_count": null,
      "outputs": [
        {
          "output_type": "stream",
          "text": [
            "How many terms? 5\n",
            "Fibonacci sequence:\n",
            "0\n",
            "1\n",
            "1\n",
            "2\n",
            "3\n"
          ],
          "name": "stdout"
        }
      ]
    },
    {
      "cell_type": "markdown",
      "metadata": {
        "id": "wJtkG2CTf-MM"
      },
      "source": [
        "The algorithm is based on the following facts. \r\n",
        "Linear Search (Array A, Value x):\r\n",
        "Step 1: Set i to 1\r\n",
        "Step 2: if i > n then go to step 7\r\n",
        "Step 3: if A[i] = x then go to step 6\r\n",
        "Step 4: Set i to i + 1\r\n",
        "Step 5: Go to Step 2\r\n",
        "Step 6: Print Element x Found at index i and go to step 8\r\n",
        "Step 7: Print element not found\r\n",
        "Step 8: Exit\r\n"
      ]
    },
    {
      "cell_type": "code",
      "metadata": {
        "colab": {
          "base_uri": "https://localhost:8080/"
        },
        "id": "Fam7sGtseMFx",
        "outputId": "71478a15-fe11-4648-bd89-f46accf2eefc"
      },
      "source": [
        "# lab 3 Program to implement sequential search\r\n",
        "def sequential_Search(dlist, item):\r\n",
        "    pos = 0\r\n",
        "    found = 0\r\n",
        "    for pos in range(len(dlist)):\r\n",
        "        if dlist[pos]==item:\r\n",
        "            found=1\r\n",
        "            break\r\n",
        "        else:\r\n",
        "            pos = pos + 1    \r\n",
        "    return found, pos\r\n",
        "dlist= []\r\n",
        "n = int(input(\"Enter how many numbers to be sorted:\"))\r\n",
        "for i in range(n):\r\n",
        "    dlist.append(int(input()))    \r\n",
        "item = int(input(\"Enter a number to search:\"))\r\n",
        "c,d = sequential_Search(dlist, item)\r\n",
        "if c==1:\r\n",
        "    print(item, \"is found at location\",d+1)\r\n",
        "else:\r\n",
        "    print(item, \"is not found...\") \r\n"
      ],
      "execution_count": null,
      "outputs": [
        {
          "output_type": "stream",
          "text": [
            "Enter how many numbers to be sorted:7\n",
            "50\n",
            "25\n",
            "45\n",
            "35\n",
            "5\n",
            "10\n",
            "65\n",
            "Enter a number to search:5\n",
            "5 is found at location 5\n"
          ],
          "name": "stdout"
        }
      ]
    },
    {
      "cell_type": "markdown",
      "metadata": {
        "id": "i0iA801pgEHA"
      },
      "source": [
        "The idea of binary search is to use the information that the array is sorted and reduce the time complexity to O(Log n). \r\n",
        "We basically ignore half of the elements just after one comparison.\r\n",
        "1.\tCompare x with the middle element.\r\n",
        "2.\tIf x matches with middle element, we return the mid index.\r\n",
        "3.\tElse If x is greater than the mid element, then x can only lie in right half subarray after the mid element. So, we recur for right half.\r\n",
        "4.\tElse (x is smaller) recur for the left half.\r\n"
      ]
    },
    {
      "cell_type": "code",
      "metadata": {
        "colab": {
          "base_uri": "https://localhost:8080/"
        },
        "id": "s1S4W9UsgTjD",
        "outputId": "63903ae1-5cf6-4bde-d6a5-e45daeadc626"
      },
      "source": [
        "#Binary Search Algorithm - Lab 4\r\n",
        "# Returns index of x in arr if present, else -1 \r\n",
        "def binary_search(arr, low, high, x): \r\n",
        "  \r\n",
        "    # Check base case \r\n",
        "    if high >= low: \r\n",
        "  \r\n",
        "        mid = (high + low) // 2\r\n",
        "  \r\n",
        "        # If element is present at the middle itself \r\n",
        "        if arr[mid] == x: \r\n",
        "            return mid \r\n",
        "  \r\n",
        "        # If element is smaller than mid, then it can only \r\n",
        "        # be present in left subarray \r\n",
        "        elif arr[mid] > x: \r\n",
        "            return binary_search(arr, low, mid - 1, x) \r\n",
        "  \r\n",
        "        # Else the element can only be present in right subarray \r\n",
        "        else: \r\n",
        "            return binary_search(arr, mid + 1, high, x) \r\n",
        "  \r\n",
        "    else: \r\n",
        "        # Element is not present in the array \r\n",
        "        return -1\r\n",
        "  \r\n",
        "arr = []\r\n",
        "n= int(input(\"Enter how  many number in the list:\"))\r\n",
        "for i in range(n):\r\n",
        "    arr.append(int(input()))\r\n",
        "    \r\n",
        "x = int(input(' Enter a number to search: '))\r\n",
        "    \r\n",
        "# Function call \r\n",
        "result = binary_search(arr, 0, len(arr)-1, x)\r\n",
        "print(arr)\r\n",
        "if result != -1: \r\n",
        "    print('Element is present at index ', result+1) \r\n",
        "else: \r\n",
        "     print (\"Element is not present in array\")\r\n"
      ],
      "execution_count": null,
      "outputs": [
        {
          "output_type": "stream",
          "text": [
            "Enter how  many number in the list:10\n",
            "5\n",
            "25\n",
            "55\n",
            "100\n",
            "45\n",
            "250\n",
            "450\n",
            "500\n",
            "350\n",
            "50\n",
            " Enter a number to search: 95\n",
            "[5, 25, 55, 100, 45, 250, 450, 500, 350, 50]\n",
            "Element is not present in array\n"
          ],
          "name": "stdout"
        }
      ]
    },
    {
      "cell_type": "markdown",
      "metadata": {
        "id": "pdaAgYkcgO1K"
      },
      "source": [
        "We assume list is an array of n elements. We further assume that swap function swaps the values of the given array elements.\r\n",
        "begin BubbleSort(list)\r\n",
        "\r\n",
        "   for all elements of list\r\n",
        "      if list[i] > list[i+1]\r\n",
        "         swap(list[i], list[i+1])\r\n",
        "      end if\r\n",
        "   end for\r\n",
        "   \r\n",
        "   return list\r\n",
        "   \r\n",
        "end BubbleSort\r\n"
      ]
    },
    {
      "cell_type": "code",
      "metadata": {
        "colab": {
          "base_uri": "https://localhost:8080/"
        },
        "id": "TcVaT2-3hI4C",
        "outputId": "c1910c3f-d47b-43c0-ba66-b67aa75b00ab"
      },
      "source": [
        "# lab 5 Python program for implementation of Bubble Sort \r\n",
        "  \r\n",
        "def bubbleSort(arr): \r\n",
        "    n = len(arr) \r\n",
        "  \r\n",
        "    # Traverse through all array elements \r\n",
        "    for i in range(n-1): \r\n",
        "    # range(n) also work but outer loop will repeat one time more than needed. \r\n",
        "  \r\n",
        "        # Last i elements are already in place \r\n",
        "        for j in range(0, n-i-1): \r\n",
        "  \r\n",
        "            # traverse the array from 0 to n-i-1 \r\n",
        "            # Swap if the element found is greater \r\n",
        "            # than the next element \r\n",
        "            if arr[j] > arr[j+1] : \r\n",
        "                arr[j], arr[j+1] = arr[j+1], arr[j] \r\n",
        "  \r\n",
        "# Driver code to test above \r\n",
        "arr = []\r\n",
        "a = int(input(\"Enter how many number to be sorted:\"))\r\n",
        "for i in range(a):\r\n",
        "    arr.append(int(input()))\r\n",
        "  \r\n",
        "bubbleSort(arr) \r\n",
        "  \r\n",
        "print (\"Sorted array is:\") \r\n",
        "for i in range(len(arr)): \r\n",
        "    print (\"%d\" %arr[i])\r\n"
      ],
      "execution_count": null,
      "outputs": [
        {
          "output_type": "stream",
          "text": [
            "Enter how many number to be sorted:5\n",
            "100\n",
            "200\n",
            "50\n",
            "25\n",
            "75\n",
            "Sorted array is:\n",
            "25\n",
            "50\n",
            "75\n",
            "100\n",
            "200\n"
          ],
          "name": "stdout"
        }
      ]
    },
    {
      "cell_type": "markdown",
      "metadata": {
        "id": "NecZuT8DgXO3"
      },
      "source": [
        "Step 1 − Set MIN to location 0\r\n",
        "Step 2 − Search the minimum element in the list\r\n",
        "Step 3 − Swap with value at location MIN\r\n",
        "Step 4 − Increment MIN to point to next element\r\n",
        "Step 5 − Repeat until list is sorted\r\n"
      ]
    },
    {
      "cell_type": "code",
      "metadata": {
        "colab": {
          "base_uri": "https://localhost:8080/"
        },
        "id": "uFdFr4vBoOXl",
        "outputId": "c28311b1-8007-47aa-ea8f-5958a2ae213e"
      },
      "source": [
        "# lab 6 Python program for implementation of Selection Sort  \r\n",
        "# Traverse through all array elements \r\n",
        "def selectionsort(A,n):\r\n",
        "    for i in range(n): \r\n",
        "    \r\n",
        "        # Find the minimum element in remaining unsorted array \r\n",
        "\r\n",
        "        min_idx = i \r\n",
        "        for j in range(i+1, n): \r\n",
        "            if A[min_idx] > A[j]: \r\n",
        "                min_idx = j \r\n",
        "            # Swap the found minimum element with the first element\r\n",
        "         \r\n",
        "        A[i], A[min_idx] = A[min_idx], A[i] \r\n",
        "# Driver code to test above \r\n",
        "A= []\r\n",
        "n = int(input(\"Enter how many numbers to be sorted:\"))\r\n",
        "for i in range(n):\r\n",
        "    A.append(int(input()))\r\n",
        "    \r\n",
        "selectionsort(A,n)    \r\n",
        "print (\"Sorted array\") \r\n",
        "for i in range(n): \r\n",
        "    print(\"%d\" %A[i])\r\n"
      ],
      "execution_count": null,
      "outputs": [
        {
          "output_type": "stream",
          "text": [
            "Enter how many numbers to be sorted:7\n",
            "500\n",
            "100\n",
            "2500\n",
            "350\n",
            "590\n",
            "255\n",
            "360\n",
            "Sorted array\n",
            "100\n",
            "255\n",
            "350\n",
            "360\n",
            "500\n",
            "590\n",
            "2500\n"
          ],
          "name": "stdout"
        }
      ]
    },
    {
      "cell_type": "markdown",
      "metadata": {
        "id": "v0XhCTkCfkqv"
      },
      "source": [
        "Taking the analogical view in perspective, consider a situation where one had to sort the papers bearing the names of the students, by name from A-Z. One might use the approach as follows:\r\n",
        "•\tSelect any splitting value, say L. The splitting value is also known as Pivot.\r\n",
        "•\tDivide the stack of papers into two. A-L and M-Z. It is not necessary that the piles should be equal.\r\n",
        "•\tRepeat the above two steps with the A-L pile, splitting it into its significant two halves. And M-Z pile, split into its halves. The process is repeated until the piles are small enough to be sorted easily.\r\n",
        "•\tUltimately, the smaller piles can be placed one on top of the other to produce a fully sorted and ordered set of papers.\r\n",
        "•\tThe approach used here is reduction at each split to get to the single-element array.\r\n",
        "•\tAt every split, the pile was divided and then the same approach was used for the smaller piles by using the method of recursion.\r\n",
        "Technically, quick sort follows the below steps:\r\n",
        "Step 1 − Make any element as pivot\r\n",
        "Step 2 − Partition the array on the basis of pivot\r\n",
        "Step 3 − Apply quick sort on left partition recursively\r\n",
        "Step 4 − Apply quick sort on right partition recursively\r\n"
      ]
    },
    {
      "cell_type": "code",
      "metadata": {
        "colab": {
          "base_uri": "https://localhost:8080/"
        },
        "id": "D06QD57baXGe",
        "outputId": "be164cfb-87c6-4304-e1b8-1e7dab30e37e"
      },
      "source": [
        "# lab 7 Python program for implementation of Quicksort Sort \r\n",
        "def partition(arr, low, high): \r\n",
        "\ti = (low-1)\t\t # index of smaller element \r\n",
        "\tpivot = arr[high]\t # pivot \r\n",
        "\tfor j in range(low, high): \r\n",
        "\t\t# If current element is smaller than or \r\n",
        "\t\t# equal to pivot \r\n",
        "\t\tif arr[j] <= pivot: \r\n",
        "\t\t\t# increment index of smaller element \r\n",
        "\t\t\ti = i+1\r\n",
        "\t\t\tarr[i], arr[j] = arr[j], arr[i] \r\n",
        "\tarr[i+1], arr[high] = arr[high], arr[i+1] \r\n",
        "\treturn (i+1) \r\n",
        "# The main function that implements QuickSort \r\n",
        "# arr[] --> Array to be sorted, \r\n",
        "# low --> Starting index, \r\n",
        "# high --> Ending index \r\n",
        "# Function to do Quick sort \r\n",
        "def quickSort(arr, low, high): \r\n",
        "\tif len(arr) == 1: \r\n",
        "\t\treturn arr \r\n",
        "\tif low < high: \r\n",
        "\t\t# pi is partitioning index, arr[p] is now \r\n",
        "\t\t# at right place \r\n",
        "\t\tpi = partition(arr, low, high) \r\n",
        "\t\t# Separately sort elements before \r\n",
        "\t\t# partition and after partition \r\n",
        "\t\tquickSort(arr, low, pi-1) \r\n",
        "\t\tquickSort(arr, pi+1, high) \r\n",
        "# Driver code to test above \r\n",
        "arr = []\r\n",
        "n = int(input(\"Enter how many numbers to be sorted:\"))\r\n",
        "for i in range(n):\r\n",
        "    arr.append(int(input())) \r\n",
        "quickSort(arr, 0, n-1) \r\n",
        "print(\"Sorted array is:\") \r\n",
        "for i in range(n): \r\n",
        "\tprint(\"%d\" % arr[i])\r\n"
      ],
      "execution_count": null,
      "outputs": [
        {
          "output_type": "stream",
          "text": [
            "Enter how many numbers to be sorted:6\n",
            "250\n",
            "365\n",
            "400\n",
            "150\n",
            "100\n",
            "50\n",
            "Sorted array is:\n",
            "50\n",
            "100\n",
            "150\n",
            "250\n",
            "365\n",
            "400\n"
          ],
          "name": "stdout"
        }
      ]
    },
    {
      "cell_type": "markdown",
      "metadata": {
        "id": "8rruN5j9fecJ"
      },
      "source": [
        "Merge Sort is a Divide and Conquer algorithm. It divides the input array into two halves, calls itself for the two halves, and then merges the two sorted halves. The merge() function is used for merging two halves. The merge(arr, l, m, r) is a key process that assumes that arr[l..m] and arr[m+1..r] are sorted and merges the two sorted sub-arrays into one. See the following C implementation for details.\r\n",
        "MergeSort(arr[], l,  r)\r\n",
        "If r > l\r\n",
        "     1. Find the middle point to divide the array into two halves:  \r\n",
        "             middle m = l+ (r-l)/2\r\n",
        "     2. Call mergeSort for first half:   \r\n",
        "             Call mergeSort(arr, l, m)\r\n",
        "     3. Call mergeSort for second half:\r\n",
        "             Call mergeSort(arr, m+1, r)\r\n",
        "     4. Merge the two halves sorted in step 2 and 3:\r\n",
        "             Call merge(arr, l, m, r)\r\n"
      ]
    },
    {
      "cell_type": "code",
      "metadata": {
        "colab": {
          "base_uri": "https://localhost:8080/"
        },
        "id": "_9CEqy_KbMDw",
        "outputId": "866c0e3e-85a5-4995-9362-d28720c6c068"
      },
      "source": [
        "# lab 8 Python program for implementation of MergeSort   \r\n",
        "# Merges two subarrays of arr[]. \r\n",
        "# First subarray is arr[l..m] \r\n",
        "# Second subarray is arr[m+1..r] \r\n",
        "def merge(arr, l, m, r): \r\n",
        "    n1 = m - l + 1\r\n",
        "    n2 = r- m \r\n",
        "  \r\n",
        "    # create temp arrays \r\n",
        "    L = [0] * (n1) \r\n",
        "    R = [0] * (n2) \r\n",
        "  \r\n",
        "    # Copy data to temp arrays L[] and R[] \r\n",
        "    for i in range(0 , n1): \r\n",
        "        L[i] = arr[l + i] \r\n",
        "  \r\n",
        "    for j in range(0 , n2): \r\n",
        "        R[j] = arr[m + 1 + j] \r\n",
        "  \r\n",
        "    # Merge the temp arrays back into arr[l..r] \r\n",
        "    i = 0     # Initial index of first subarray \r\n",
        "    j = 0     # Initial index of second subarray \r\n",
        "    k = l     # Initial index of merged subarray \r\n",
        "  \r\n",
        "    while i < n1 and j < n2 : \r\n",
        "        if L[i] <= R[j]: \r\n",
        "            arr[k] = L[i] \r\n",
        "            i += 1\r\n",
        "        else: \r\n",
        "            arr[k] = R[j] \r\n",
        "            j += 1\r\n",
        "        k += 1\r\n",
        "  \r\n",
        "    # Copy the remaining elements of L[], if there \r\n",
        "    # are any \r\n",
        "    while i < n1: \r\n",
        "        arr[k] = L[i] \r\n",
        "        i += 1\r\n",
        "        k += 1\r\n",
        "  \r\n",
        "    # Copy the remaining elements of R[], if there \r\n",
        "    # are any \r\n",
        "    while j < n2: \r\n",
        "        arr[k] = R[j] \r\n",
        "        j += 1\r\n",
        "        k += 1\r\n",
        "  \r\n",
        "# l is for left index and r is right index of the \r\n",
        "# sub-array of arr to be sorted \r\n",
        "def mergeSort(arr,l,r): \r\n",
        "    if l < r: \r\n",
        "  \r\n",
        "        # Same as (l+r)//2, but avoids overflow for \r\n",
        "        # large l and h \r\n",
        "        m = (l+(r-1))//2\r\n",
        "  \r\n",
        "        # Sort first and second halves \r\n",
        "        mergeSort(arr, l, m) \r\n",
        "        mergeSort(arr, m+1, r) \r\n",
        "        merge(arr, l, m, r) \r\n",
        "  \r\n",
        "  \r\n",
        "# Driver code to test above\r\n",
        "arr = []\r\n",
        "n = int(input(\"Enter how many numbers to be sorted:\"))\r\n",
        "for i in range(n):\r\n",
        "    arr.append(int(input()))\r\n",
        "    \r\n",
        "print (\"Given array is\",arr) \r\n",
        " \r\n",
        "mergeSort(arr,0,n-1) \r\n",
        "print (\"\\n\\nSorted array is\") \r\n",
        "for i in range(n): \r\n",
        "    print (\"%d\" %arr[i])"
      ],
      "execution_count": null,
      "outputs": [
        {
          "output_type": "stream",
          "text": [
            "Enter how many numbers to be sorted:5\n",
            "500\n",
            "200\n",
            "50\n",
            "700\n",
            "300\n",
            "Given array is [500, 200, 50, 700, 300]\n",
            "\n",
            "\n",
            "Sorted array is\n",
            "50\n",
            "200\n",
            "300\n",
            "500\n",
            "700\n"
          ],
          "name": "stdout"
        }
      ]
    },
    {
      "cell_type": "markdown",
      "metadata": {
        "id": "RRVeJLDlfaIC"
      },
      "source": [
        "Insertion sort is a simple sorting algorithm that works similar to the way you sort playing cards in your hands. The array is virtually split into a sorted and an unsorted part. Values from the unsorted part are picked and placed at the correct position in the sorted part.\r\n",
        "Steps:\r\n",
        "To sort an array of size n in ascending order:\r\n",
        "1: Iterate from arr[1] to arr[n] over the array.\r\n",
        "2: Compare the current element (key) to its predecessor.\r\n",
        "3: If the key element is smaller than its predecessor, compare it to the elements before. Move the greater elements one position up to make space for the swapped element.\r\n"
      ]
    },
    {
      "cell_type": "code",
      "metadata": {
        "colab": {
          "base_uri": "https://localhost:8080/"
        },
        "id": "jnKe6mjmb49Z",
        "outputId": "5c9c609a-c5f3-4fd9-84db-d97e15df002a"
      },
      "source": [
        "# lab 9 Function to do insertion sort \r\n",
        "def insertionSort(arr): \r\n",
        "  \r\n",
        "    # Traverse through 1 to len(arr) \r\n",
        "    for i in range(1, len(arr)): \r\n",
        "  \r\n",
        "        key = arr[i] \r\n",
        "  \r\n",
        "        # Move elements of arr[0..i-1], that are \r\n",
        "        # greater than key, to one position ahead \r\n",
        "        # of their current position \r\n",
        "        j = i-1\r\n",
        "        while j >=0 and key < arr[j] : \r\n",
        "                arr[j+1] = arr[j] \r\n",
        "                j -= 1\r\n",
        "        arr[j+1] = key \r\n",
        "  \r\n",
        "  \r\n",
        "# Driver code to test above \r\n",
        "arr = [] \r\n",
        "n = int(input(\"Enter how many numbers to be sorted:\"))\r\n",
        "for i in range(n):\r\n",
        "    arr.append(int(input()))\r\n",
        "    \r\n",
        "insertionSort(arr) \r\n",
        "print (\"Sorted array is:\") \r\n",
        "\r\n",
        "\r\n",
        "for i in range(len(arr)): \r\n",
        "    print (\"%d\" %arr[i])\r\n"
      ],
      "execution_count": null,
      "outputs": [
        {
          "output_type": "stream",
          "text": [
            "Enter how many numbers to be sorted:7\n",
            "500\n",
            "1500\n",
            "1800\n",
            "250\n",
            "50\n",
            "100\n",
            "350\n",
            "Sorted array is:\n",
            "50\n",
            "100\n",
            "250\n",
            "350\n",
            "500\n",
            "1500\n",
            "1800\n"
          ],
          "name": "stdout"
        }
      ]
    },
    {
      "cell_type": "markdown",
      "metadata": {
        "id": "Q5JGh79We4vV"
      },
      "source": [
        "•\tSince the tree satisfies Max-Heap property, then the largest item is stored at the root node.\r\n",
        "•\tSwap: Remove the root element and put at the end of the array (nth position) Put the last item of the tree (heap) at the vacant place.\r\n",
        "•\tRemove: Reduce the size of the heap by 1.\r\n",
        "•\tHeapify: Heapify the root element again so that we have the highest element at root.\r\n",
        "•\tThe process is repeated until all the items of the list are sorted\r\n"
      ]
    },
    {
      "cell_type": "code",
      "metadata": {
        "colab": {
          "base_uri": "https://localhost:8080/"
        },
        "id": "24EZadFQeEco",
        "outputId": "d0384099-8a99-46b2-9ae3-7a110cbc4094"
      },
      "source": [
        "# lab-10 Python program for implementation of heap Sort \r\n",
        "# To heapify subtree rooted at index i. \r\n",
        "# n is size of heap \r\n",
        "def heapify(arr, n, i): \r\n",
        "    largest = i # Initialize largest as root \r\n",
        "    l = 2 * i + 1     # left = 2*i + 1 \r\n",
        "    r = 2 * i + 2     # right = 2*i + 2 \r\n",
        "  \r\n",
        "    # See if left child of root exists and is \r\n",
        "    # greater than root \r\n",
        "    if l < n and arr[i] < arr[l]: \r\n",
        "        largest = l \r\n",
        "  \r\n",
        "    # See if right child of root exists and is \r\n",
        "    # greater than root \r\n",
        "    if r < n and arr[largest] < arr[r]: \r\n",
        "        largest = r \r\n",
        "  \r\n",
        "    # Change root, if needed \r\n",
        "    if largest != i: \r\n",
        "        arr[i],arr[largest] = arr[largest],arr[i]  # swap \r\n",
        "  \r\n",
        "        # Heapify the root. \r\n",
        "        heapify(arr, n, largest) \r\n",
        "  \r\n",
        "# The main function to sort an array of given size \r\n",
        "def heapSort(arr): \r\n",
        "    n = len(arr) \r\n",
        "  \r\n",
        "    # Build a maxheap. \r\n",
        "    # Since last parent will be at ((n//2)-1) we can start at that location. \r\n",
        "    for i in range(n // 2 - 1, -1, -1): \r\n",
        "        heapify(arr, n, i) \r\n",
        "  \r\n",
        "    # One by one extract elements \r\n",
        "    for i in range(n-1, 0, -1): \r\n",
        "        arr[i], arr[0] = arr[0], arr[i]   # swap \r\n",
        "        heapify(arr, i, 0) \r\n",
        "    \r\n",
        "    # Driver code to test above,\r\n",
        "A = []\r\n",
        "n= int(input(\"Enter how  many number in the list:\"))\r\n",
        "for i in range(n):\r\n",
        "    A.append(int(input()))\r\n",
        "       \r\n",
        "heapSort(A)\r\n",
        "print (\"Sorted array is\") \r\n",
        "for i in range(n):\r\n",
        "    print (\"%d\" %A[i])\r\n"
      ],
      "execution_count": null,
      "outputs": [
        {
          "output_type": "stream",
          "text": [
            "Enter how  many number in the list:6\n",
            "4500\n",
            "2500\n",
            "1000\n",
            "500\n",
            "5000\n",
            "250\n",
            "Sorted array is\n",
            "250\n",
            "500\n",
            "1000\n",
            "2500\n",
            "4500\n",
            "5000\n"
          ],
          "name": "stdout"
        }
      ]
    }
  ]
}